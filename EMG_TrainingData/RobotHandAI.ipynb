{
 "cells": [
  {
   "cell_type": "code",
   "execution_count": 22,
   "metadata": {},
   "outputs": [],
   "source": [
    "import pandas as pd\n",
    "import numpy as np\n",
    "from scipy.stats import norm\n",
    "import statistics\n",
    "from collections import OrderedDict\n",
    "from sklearn.ensemble import RandomForestClassifier\n",
    "import matplotlib.pyplot as plt"
   ]
  },
  {
   "attachments": {},
   "cell_type": "markdown",
   "metadata": {},
   "source": [
    "Load CSV files and creating DataFrame"
   ]
  },
  {
   "cell_type": "code",
   "execution_count": 23,
   "metadata": {},
   "outputs": [],
   "source": [
    "#OPEN HAND DATA\n",
    "#unusable data 1,5,7,8,30\n",
    "open_u5 = pd.read_csv('datasets_uxx/data_handopen_u2.csv', names = ['EMG_VAL','EMG_LPF', 'Status'])\n",
    "open_u6 = pd.read_csv('datasets_uxx/data_handopen_u3.csv', names = ['EMG_VAL','EMG_LPF', 'Status'])\n",
    "open_u7 = pd.read_csv('datasets_uxx/data_handopen_u4.csv', names = ['EMG_VAL','EMG_LPF', 'Status'])\n",
    "open_u8 = pd.read_csv('datasets_uxx/data_handopen_u6.csv', names = ['EMG_VAL','EMG_LPF', 'Status'])\n",
    "open_u9 = pd.read_csv('datasets_uxx/data_handopen_u9.csv', names = ['EMG_VAL','EMG_LPF', 'Status'])\n",
    "open_u10 = pd.read_csv('datasets_uxx/data_handopen_u10.csv', names = ['EMG_VAL','EMG_LPF', 'Status'])\n",
    "open_u11 = pd.read_csv('datasets_uxx/data_handopen_u11.csv', names = ['EMG_VAL','EMG_LPF', 'Status'])\n",
    "open_u12= pd.read_csv('datasets_uxx/data_handopen_u12.csv', names = ['EMG_VAL','EMG_LPF', 'Status'])\n",
    "open_u13 = pd.read_csv('datasets_uxx/data_handopen_u13.csv', names = ['EMG_VAL','EMG_LPF', 'Status'])\n",
    "open_u14 = pd.read_csv('datasets_uxx/data_handopen_u14.csv', names = ['EMG_VAL','EMG_LPF', 'Status'])\n",
    "open_u15 = pd.read_csv('datasets_uxx/data_handopen_u15.csv', names = ['EMG_VAL','EMG_LPF', 'Status'])\n",
    "open_u16= pd.read_csv('datasets_uxx/data_handopen_u16.csv', names = ['EMG_VAL','EMG_LPF', 'Status'])\n",
    "open_u17 = pd.read_csv('datasets_uxx/data_handopen_u17.csv', names = ['EMG_VAL','EMG_LPF', 'Status'])\n",
    "open_u18 = pd.read_csv('datasets_uxx/data_handopen_u18.csv', names = ['EMG_VAL','EMG_LPF', 'Status'])\n",
    "open_u19 = pd.read_csv('datasets_uxx/data_handopen_u19.csv', names = ['EMG_VAL','EMG_LPF', 'Status'])\n",
    "open_u20= pd.read_csv('datasets_uxx/data_handopen_u20.csv', names = ['EMG_VAL','EMG_LPF', 'Status'])\n",
    "open_u21 = pd.read_csv('datasets_uxx/data_handopen_u21.csv', names = ['EMG_VAL','EMG_LPF', 'Status'])\n",
    "open_u22 = pd.read_csv('datasets_uxx/data_handopen_u22.csv', names = ['EMG_VAL','EMG_LPF', 'Status'])\n",
    "open_u23 = pd.read_csv('datasets_uxx/data_handopen_u23.csv', names = ['EMG_VAL','EMG_LPF', 'Status'])\n",
    "open_u24= pd.read_csv('datasets_uxx/data_handopen_u24.csv', names = ['EMG_VAL','EMG_LPF', 'Status'])\n",
    "open_u25 = pd.read_csv('datasets_uxx/data_handopen_u25.csv', names = ['EMG_VAL','EMG_LPF', 'Status'])\n",
    "open_u26 = pd.read_csv('datasets_uxx/data_handopen_u26.csv', names = ['EMG_VAL','EMG_LPF', 'Status'])\n",
    "open_u27 = pd.read_csv('datasets_uxx/data_handopen_u27.csv', names = ['EMG_VAL','EMG_LPF', 'Status'])\n",
    "open_u28= pd.read_csv('datasets_uxx/data_handopen_u28.csv', names = ['EMG_VAL','EMG_LPF', 'Status'])\n",
    "open_u29 = pd.read_csv('datasets_uxx/data_handopen_u29.csv', names = ['EMG_VAL','EMG_LPF', 'Status'])\n",
    "open_u30 = pd.read_csv('datasets_uxx/data_handopen_u31.csv', names = ['EMG_VAL','EMG_LPF', 'Status'])\n",
    "open_u31 = pd.read_csv('datasets_uxx/data_handopen_u32.csv', names = ['EMG_VAL','EMG_LPF', 'Status'])\n",
    "open_u32= pd.read_csv('datasets_uxx/data_handopen_u33.csv', names = ['EMG_VAL','EMG_LPF', 'Status'])\n",
    "open_u33 = pd.read_csv('datasets_uxx/data_handopen_u34.csv', names = ['EMG_VAL','EMG_LPF', 'Status'])\n",
    "open_u34 = pd.read_csv('datasets_uxx/data_handopen_u35.csv', names = ['EMG_VAL','EMG_LPF', 'Status'])\n",
    "open_u35 = pd.read_csv('datasets_uxx/data_handopen_u36.csv', names = ['EMG_VAL','EMG_LPF', 'Status'])\n",
    "open_u36= pd.read_csv('datasets_uxx/data_handopen_u37.csv', names = ['EMG_VAL','EMG_LPF', 'Status'])\n",
    "open_u37 = pd.read_csv('datasets_uxx/data_handopen_u38.csv', names = ['EMG_VAL','EMG_LPF', 'Status'])\n",
    "open_u38 = pd.read_csv('datasets_uxx/data_handopen_u39.csv', names = ['EMG_VAL','EMG_LPF', 'Status'])\n",
    "open_u39 = pd.read_csv('datasets_uxx/data_handopen_u40.csv', names = ['EMG_VAL','EMG_LPF', 'Status'])\n",
    "open_u40 = pd.read_csv('datasets_uxx/data_handopen_u41.csv', names = ['EMG_VAL','EMG_LPF', 'Status'])\n",
    "open_u41 = pd.read_csv('datasets_uxx/data_handopen_u42.csv', names = ['EMG_VAL','EMG_LPF', 'Status'])\n",
    "open_u42 = pd.read_csv('datasets_uxx/data_handopen_u43.csv', names = ['EMG_VAL','EMG_LPF', 'Status'])\n"
   ]
  },
  {
   "cell_type": "code",
   "execution_count": 24,
   "metadata": {},
   "outputs": [],
   "source": [
    "df_open_u2 = pd.DataFrame(open_u5)\n",
    "df_open_u3 = pd.DataFrame(open_u6)\n",
    "df_open_u4 = pd.DataFrame(open_u7)\n",
    "df_open_u5 = pd.DataFrame(open_u8)\n",
    "df_open_u6 = pd.DataFrame(open_u9)\n",
    "df_open_u7 = pd.DataFrame(open_u10)\n",
    "df_open_u8 = pd.DataFrame(open_u11)\n",
    "df_open_u9 = pd.DataFrame(open_u12)\n",
    "df_open_u10 = pd.DataFrame(open_u13)\n",
    "df_open_u11 = pd.DataFrame(open_u14)\n",
    "df_open_u12 = pd.DataFrame(open_u15)\n",
    "df_open_u13 = pd.DataFrame(open_u16)\n",
    "df_open_u14 = pd.DataFrame(open_u17)\n",
    "df_open_u15 = pd.DataFrame(open_u18)\n",
    "df_open_u16 = pd.DataFrame(open_u19)\n",
    "df_open_u17 = pd.DataFrame(open_u20)\n",
    "df_open_u18 = pd.DataFrame(open_u21)\n",
    "df_open_u19 = pd.DataFrame(open_u22)\n",
    "df_open_u20 = pd.DataFrame(open_u23)\n",
    "df_open_u21 = pd.DataFrame(open_u24)\n",
    "df_open_u22 = pd.DataFrame(open_u25)\n",
    "df_open_u23 = pd.DataFrame(open_u26)\n",
    "df_open_u24 = pd.DataFrame(open_u27)\n",
    "df_open_u25 = pd.DataFrame(open_u28)\n",
    "df_open_u26 = pd.DataFrame(open_u29)\n",
    "df_open_u27 = pd.DataFrame(open_u30)\n",
    "df_open_u28 = pd.DataFrame(open_u31)\n",
    "df_open_u29 = pd.DataFrame(open_u32)\n",
    "df_open_u30 = pd.DataFrame(open_u33)\n",
    "df_open_u31 = pd.DataFrame(open_u34)\n",
    "df_open_u32 = pd.DataFrame(open_u35)\n",
    "df_open_u33 = pd.DataFrame(open_u36)\n",
    "df_open_u34 = pd.DataFrame(open_u37)\n",
    "df_open_u35 = pd.DataFrame(open_u38)\n",
    "df_open_u36 = pd.DataFrame(open_u39)\n",
    "df_open_u37 = pd.DataFrame(open_u40)\n",
    "df_open_u38 = pd.DataFrame(open_u41)\n",
    "df_open_u39 = pd.DataFrame(open_u42)\n",
    "\n",
    "\n"
   ]
  },
  {
   "cell_type": "code",
   "execution_count": 25,
   "metadata": {},
   "outputs": [],
   "source": [
    "#CLOSE HAND DATA\n",
    "#not usable data 1,5\n",
    "close_u4 = pd.read_csv('datasets_uxx/data_handclose_u2.csv', names = ['EMG_VAL','EMG_LPF', 'Status'])\n",
    "close_u5 = pd.read_csv('datasets_uxx/data_handclose_u3.csv', names = ['EMG_VAL','EMG_LPF', 'Status'])\n",
    "close_u6 = pd.read_csv('datasets_uxx/data_handclose_u4.csv', names = ['EMG_VAL','EMG_LPF', 'Status'])\n",
    "close_u7 = pd.read_csv('datasets_uxx/data_handclose_u6.csv', names = ['EMG_VAL','EMG_LPF', 'Status'])\n",
    "close_u8 = pd.read_csv('datasets_uxx/data_handclose_u8.csv', names = ['EMG_VAL','EMG_LPF', 'Status'])\n",
    "close_u9 = pd.read_csv('datasets_uxx/data_handclose_u9.csv', names = ['EMG_VAL','EMG_LPF', 'Status'])\n",
    "close_u10 = pd.read_csv('datasets_uxx/data_handclose_u10.csv', names = ['EMG_VAL','EMG_LPF', 'Status'])\n",
    "close_u11 = pd.read_csv('datasets_uxx/data_handclose_u11.csv', names = ['EMG_VAL','EMG_LPF', 'Status'])\n",
    "close_u12 = pd.read_csv('datasets_uxx/data_handclose_u12.csv', names = ['EMG_VAL','EMG_LPF', 'Status'])\n",
    "close_u13 = pd.read_csv('datasets_uxx/data_handclose_u13.csv', names = ['EMG_VAL','EMG_LPF', 'Status'])\n",
    "close_u14 = pd.read_csv('datasets_uxx/data_handclose_u14.csv', names = ['EMG_VAL','EMG_LPF', 'Status'])\n",
    "close_u15 = pd.read_csv('datasets_uxx/data_handclose_u15.csv', names = ['EMG_VAL','EMG_LPF', 'Status'])\n",
    "close_u16 = pd.read_csv('datasets_uxx/data_handclose_u16.csv', names = ['EMG_VAL','EMG_LPF', 'Status'])\n",
    "close_u17 = pd.read_csv('datasets_uxx/data_handclose_u17.csv', names = ['EMG_VAL','EMG_LPF', 'Status'])\n",
    "close_u18 = pd.read_csv('datasets_uxx/data_handclose_u18.csv', names = ['EMG_VAL','EMG_LPF', 'Status'])\n",
    "close_u19 = pd.read_csv('datasets_uxx/data_handclose_u19.csv', names = ['EMG_VAL','EMG_LPF', 'Status'])\n",
    "close_u20 = pd.read_csv('datasets_uxx/data_handclose_u20.csv', names = ['EMG_VAL','EMG_LPF', 'Status'])\n",
    "close_u21 = pd.read_csv('datasets_uxx/data_handclose_u21.csv', names = ['EMG_VAL','EMG_LPF', 'Status'])\n",
    "close_u22 = pd.read_csv('datasets_uxx/data_handclose_u22.csv', names = ['EMG_VAL','EMG_LPF', 'Status'])\n",
    "close_u23 = pd.read_csv('datasets_uxx/data_handclose_u23.csv', names = ['EMG_VAL','EMG_LPF', 'Status'])\n",
    "close_u24 = pd.read_csv('datasets_uxx/data_handclose_u24.csv', names = ['EMG_VAL','EMG_LPF', 'Status'])\n",
    "close_u25 = pd.read_csv('datasets_uxx/data_handclose_u25.csv', names = ['EMG_VAL','EMG_LPF', 'Status'])\n",
    "close_u26 = pd.read_csv('datasets_uxx/data_handclose_u26.csv', names = ['EMG_VAL','EMG_LPF', 'Status'])\n",
    "close_u27 = pd.read_csv('datasets_uxx/data_handclose_u27.csv', names = ['EMG_VAL','EMG_LPF', 'Status'])\n",
    "close_u28 = pd.read_csv('datasets_uxx/data_handclose_u28.csv', names = ['EMG_VAL','EMG_LPF', 'Status'])\n",
    "close_u29 = pd.read_csv('datasets_uxx/data_handclose_u29.csv', names = ['EMG_VAL','EMG_LPF', 'Status'])\n",
    "close_u30 = pd.read_csv('datasets_uxx/data_handclose_u30.csv', names = ['EMG_VAL','EMG_LPF', 'Status'])\n",
    "close_u31 = pd.read_csv('datasets_uxx/data_handclose_u31.csv', names = ['EMG_VAL','EMG_LPF', 'Status'])\n",
    "close_u32 = pd.read_csv('datasets_uxx/data_handclose_u32.csv', names = ['EMG_VAL','EMG_LPF', 'Status'])\n",
    "close_u33 = pd.read_csv('datasets_uxx/data_handclose_u33.csv', names = ['EMG_VAL','EMG_LPF', 'Status'])\n",
    "close_u34 = pd.read_csv('datasets_uxx/data_handclose_u34.csv', names = ['EMG_VAL','EMG_LPF', 'Status'])\n",
    "close_u35 = pd.read_csv('datasets_uxx/data_handclose_u35.csv', names = ['EMG_VAL','EMG_LPF', 'Status'])\n",
    "close_u36 = pd.read_csv('datasets_uxx/data_handclose_u36.csv', names = ['EMG_VAL','EMG_LPF', 'Status'])\n",
    "close_u37 = pd.read_csv('datasets_uxx/data_handclose_u37.csv', names = ['EMG_VAL','EMG_LPF', 'Status'])\n",
    "close_u38 = pd.read_csv('datasets_uxx/data_handclose_u38.csv', names = ['EMG_VAL','EMG_LPF', 'Status'])\n",
    "close_u39 = pd.read_csv('datasets_uxx/data_handclose_u39.csv', names = ['EMG_VAL','EMG_LPF', 'Status'])\n",
    "close_u40 = pd.read_csv('datasets_uxx/data_handclose_u40.csv', names = ['EMG_VAL','EMG_LPF', 'Status'])\n",
    "close_u41 = pd.read_csv('datasets_uxx/data_handclose_u41.csv', names = ['EMG_VAL','EMG_LPF', 'Status'])"
   ]
  },
  {
   "cell_type": "code",
   "execution_count": 26,
   "metadata": {},
   "outputs": [],
   "source": [
    "df_close_u2 = pd.DataFrame(close_u4)\n",
    "df_close_u3 = pd.DataFrame(close_u5)\n",
    "df_close_u4 = pd.DataFrame(close_u6)\n",
    "df_close_u5 = pd.DataFrame(close_u7)\n",
    "df_close_u6 = pd.DataFrame(close_u8)\n",
    "df_close_u7 = pd.DataFrame(close_u9)\n",
    "df_close_u8 = pd.DataFrame(close_u10)\n",
    "df_close_u9 = pd.DataFrame(close_u11)\n",
    "df_close_u10 = pd.DataFrame(close_u12)\n",
    "df_close_u11 = pd.DataFrame(close_u13)\n",
    "df_close_u12 = pd.DataFrame(close_u14)\n",
    "df_close_u13 = pd.DataFrame(close_u15)\n",
    "df_close_u14 = pd.DataFrame(close_u16)\n",
    "df_close_u15 = pd.DataFrame(close_u17)\n",
    "df_close_u16 = pd.DataFrame(close_u18)\n",
    "df_close_u17 = pd.DataFrame(close_u19)\n",
    "df_close_u18 = pd.DataFrame(close_u20)\n",
    "df_close_u19 = pd.DataFrame(close_u21)\n",
    "df_close_u20 = pd.DataFrame(close_u22)\n",
    "df_close_u21 = pd.DataFrame(close_u23)\n",
    "df_close_u22 = pd.DataFrame(close_u24)\n",
    "df_close_u23 = pd.DataFrame(close_u25)\n",
    "df_close_u24 = pd.DataFrame(close_u26)\n",
    "df_close_u25 = pd.DataFrame(close_u27)\n",
    "df_close_u26 = pd.DataFrame(close_u28)\n",
    "df_close_u27 = pd.DataFrame(close_u29)\n",
    "df_close_u28 = pd.DataFrame(close_u30)\n",
    "df_close_u29 = pd.DataFrame(close_u31)\n",
    "df_close_u30 = pd.DataFrame(close_u32)\n",
    "df_close_u31 = pd.DataFrame(close_u33)\n",
    "df_close_u32 = pd.DataFrame(close_u34)\n",
    "df_close_u33 = pd.DataFrame(close_u35)\n",
    "df_close_u34 = pd.DataFrame(close_u36)\n",
    "df_close_u35 = pd.DataFrame(close_u37)\n",
    "df_close_u36 = pd.DataFrame(close_u38)\n",
    "df_close_u37 = pd.DataFrame(close_u39)\n",
    "df_close_u38 = pd.DataFrame(close_u40)\n",
    "df_close_u39 = pd.DataFrame(close_u41)"
   ]
  },
  {
   "cell_type": "code",
   "execution_count": 44,
   "metadata": {},
   "outputs": [
    {
     "name": "stdout",
     "output_type": "stream",
     "text": [
      "      EMG_VAL  EMG_LPF  Status\n",
      "0        39.0    39.43       0\n",
      "1        40.0    39.51       0\n",
      "2        39.0    39.57       0\n",
      "3        40.0    39.61       0\n",
      "4        41.0    39.66       0\n",
      "...       ...      ...     ...\n",
      "5961     47.0    45.00       0\n",
      "5962     42.0    44.82       0\n",
      "5963     45.0    44.65       0\n",
      "5964     36.0    44.44       0\n",
      "5965     51.0    44.20       0\n",
      "\n",
      "[5966 rows x 3 columns]\n"
     ]
    }
   ],
   "source": [
    "print(df_open_u10)"
   ]
  },
  {
   "attachments": {},
   "cell_type": "markdown",
   "metadata": {},
   "source": [
    "Finding Mean, Median, Mode, and Standard Deviation"
   ]
  },
  {
   "cell_type": "code",
   "execution_count": 27,
   "metadata": {},
   "outputs": [
    {
     "name": "stdout",
     "output_type": "stream",
     "text": [
      "{'open_u2_mean': '63.07841', 'open_u3_mean': '54.140827', 'open_u4_mean': '46.915729', 'open_u5_mean': '34.464135', 'open_u6_mean': '129.373817', 'open_u7_mean': '141.378119', 'open_u8_mean': '49.02545', 'open_u9_mean': '67.575252', 'open_u10_mean': '41.823217', 'open_u11_mean': '40.048667', 'open_u12_mean': '40.049573', 'open_u13_mean': '40.009927', 'open_u14_mean': '40.060129', 'open_u15_mean': '40.046023', 'open_u16_mean': '40.000465', 'open_u17_mean': '41.877981', 'open_u18_mean': '49.493323', 'open_u19_mean': '41.109158', 'open_u20_mean': '40.881015', 'open_u21_mean': '40.986025', 'open_u22_mean': '46.13739', 'open_u23_mean': '79.863692', 'open_u24_mean': '90.059625', 'open_u25_mean': '192.448304', 'open_u26_mean': '69.021231', 'open_u27_mean': '92.083308', 'open_u28_mean': '87.194227', 'open_u29_mean': '56.612719', 'open_u30_mean': '74.665142', 'open_u31_mean': '70.899629', 'open_u32_mean': '73.599169', 'open_u33_mean': '74.583163', 'open_u34_mean': '65.525612', 'open_u35_mean': '57.318242', 'open_u36_mean': '57.692273', 'open_u37_mean': '52.623496', 'open_u38_mean': '51.387169', 'open_u39_mean': '72.148146'}\n",
      "{'close_u2_mean': '165.968098', 'close_u3_mean': '168.946673', 'close_u4_mean': '106.867719', 'close_u5_mean': '216.622231', 'close_u6_mean': '156.571317', 'close_u7_mean': '171.170348', 'close_u8_mean': '181.689415', 'close_u9_mean': '270.692315', 'close_u10_mean': '173.099973', 'close_u11_mean': '180.012379', 'close_u12_mean': '155.091344', 'close_u13_mean': '148.882427', 'close_u14_mean': '325.783971', 'close_u15_mean': '249.160644', 'close_u16_mean': '222.705842', 'close_u17_mean': '158.262531', 'close_u18_mean': '149.044602', 'close_u19_mean': '233.171883', 'close_u20_mean': '88.716735', 'close_u21_mean': '77.216421', 'close_u22_mean': '109.056485', 'close_u23_mean': '100.601825', 'close_u24_mean': '106.996785', 'close_u25_mean': '103.961944', 'close_u26_mean': '84.361258', 'close_u27_mean': '99.403215', 'close_u28_mean': '99.445635', 'close_u29_mean': '110.583135', 'close_u30_mean': '105.335279', 'close_u31_mean': '102.93626', 'close_u32_mean': '101.683067', 'close_u33_mean': '103.925438', 'close_u34_mean': '91.65011', 'close_u35_mean': '95.926165', 'close_u36_mean': '98.31639', 'close_u37_mean': '109.268083', 'close_u38_mean': '98.376363', 'close_u39_mean': '95.003858'}\n"
     ]
    }
   ],
   "source": [
    "#OpenHand\n",
    "with open('open_mean.csv', 'w') as f:\n",
    "       om_dict={}\n",
    "       for i in range(2,40):\n",
    "              omk = str(\"open_u\"+str(i)+\"_mean\")\n",
    "              om_dict[omk]= str(eval(str(\"df_open_u\"+str(i))).loc[0:4799,['EMG_LPF']].mean()).replace(\"EMG_LPF\",'').replace('dtype: float64','').strip()\n",
    "              f.write(omk+\"  ,  \"+ om_dict[omk]+\"\\n\")\n",
    "print(om_dict)\n",
    "\n",
    "#HandClose\n",
    "with open('close_mean.csv', 'w') as f:\n",
    "       cm_dict={}\n",
    "       for i in range(2,40):\n",
    "              cmk = str(\"close_u\"+str(i)+\"_mean\") #close mean key\n",
    "              cm_dict[cmk]= str(eval(str(\"df_close_u\"+str(i))).loc[0:4799,['EMG_LPF']].mean()).replace(\"EMG_LPF\", '').replace('dtype: float64','').strip()\n",
    "              f.write(cmk+\"  ,  \"+ cm_dict[cmk]+\"\\n\")\n",
    "print(cm_dict)"
   ]
  },
  {
   "cell_type": "code",
   "execution_count": 28,
   "metadata": {},
   "outputs": [
    {
     "data": {
      "text/plain": [
       "EMG_LPF    168.946673\n",
       "dtype: float64"
      ]
     },
     "execution_count": 28,
     "metadata": {},
     "output_type": "execute_result"
    }
   ],
   "source": [
    "df_close_u3.loc[0:4799, ['EMG_LPF']].mean()"
   ]
  },
  {
   "attachments": {},
   "cell_type": "markdown",
   "metadata": {},
   "source": [
    "Finding Median\n",
    "\n"
   ]
  },
  {
   "cell_type": "code",
   "execution_count": 29,
   "metadata": {},
   "outputs": [
    {
     "name": "stdout",
     "output_type": "stream",
     "text": [
      "{'open_u2_median': '56.5', 'open_u3_median': '37.14', 'open_u4_median': '38.84', 'open_u5_median': '34.43', 'open_u6_median': '117.045', 'open_u7_median': '139.78', 'open_u8_median': '42.36', 'open_u9_median': '58.055', 'open_u10_median': '41.275', 'open_u11_median': '40.03', 'open_u12_median': '39.99', 'open_u13_median': '39.98', 'open_u14_median': '40.05', 'open_u15_median': '40.05', 'open_u16_median': '39.99', 'open_u17_median': '41.49', 'open_u18_median': '42.275', 'open_u19_median': '40.72', 'open_u20_median': '40.64', 'open_u21_median': '40.62', 'open_u22_median': '44.055', 'open_u23_median': '76.55', 'open_u24_median': '88.05', 'open_u25_median': '191.26', 'open_u26_median': '64.335', 'open_u27_median': '92.19', 'open_u28_median': '84.705', 'open_u29_median': '53.395', 'open_u30_median': '71.775', 'open_u31_median': '71.17', 'open_u32_median': '70.915', 'open_u33_median': '72.875', 'open_u34_median': '65.555', 'open_u35_median': '57.33', 'open_u36_median': '57.685', 'open_u37_median': '52.62', 'open_u38_median': '51.15', 'open_u39_median': '66.425'}\n",
      "{'close_u2_median': '160.13', 'close_u3_median': '174.44', 'close_u4_median': '43.38', 'close_u5_median': '217.49', 'close_u6_median': '144.89', 'close_u7_median': '152.625', 'close_u8_median': '175.06', 'close_u9_median': '273.96', 'close_u10_median': '163.385', 'close_u11_median': '166.565', 'close_u12_median': '150.955', 'close_u13_median': '143.185', 'close_u14_median': '328.825', 'close_u15_median': '248.16', 'close_u16_median': '223.385', 'close_u17_median': '156.31', 'close_u18_median': '147.165', 'close_u19_median': '230.925', 'close_u20_median': '84.735', 'close_u21_median': '74.32', 'close_u22_median': '103.735', 'close_u23_median': '94.32', 'close_u24_median': '93.26', 'close_u25_median': '91.205', 'close_u26_median': '80.565', 'close_u27_median': '93.58', 'close_u28_median': '94.19', 'close_u29_median': '99.805', 'close_u30_median': '99.035', 'close_u31_median': '95.86', 'close_u32_median': '86.565', 'close_u33_median': '95.425', 'close_u34_median': '83.91', 'close_u35_median': '88.305', 'close_u36_median': '86.41', 'close_u37_median': '102.49', 'close_u38_median': '85.905', 'close_u39_median': '86.275'}\n"
     ]
    }
   ],
   "source": [
    "with open('open_median.csv', 'w') as f:\n",
    "       omed_dict={}\n",
    "       for i in range(2,40):\n",
    "              omedk = str(\"open_u\"+str(i)+\"_median\")\n",
    "              omed_dict[omedk]= str(eval(str(\"df_open_u\"+str(i))).loc[0:4799,['EMG_LPF']].median()).replace(\"EMG_LPF\",'').replace('dtype: float64','').strip()\n",
    "              f.write(omedk+\"  ,  \"+ omed_dict[omedk]+\"\\n\")\n",
    "print(omed_dict)\n",
    "\n",
    "with open('close_median.csv', 'w') as f:\n",
    "       cmed_dict={}\n",
    "       for i in range(2,40):\n",
    "              cmedk = str(\"close_u\"+str(i)+\"_median\") #close mean key\n",
    "              cmed_dict[cmedk]= str(eval(str(\"df_close_u\"+str(i))).loc[0:4799,['EMG_LPF']].median()).replace(\"EMG_LPF\", '').replace('dtype: float64','').strip()\n",
    "              f.write(cmedk+\"  ,  \"+ cmed_dict[cmedk]+\"\\n\")\n",
    "print(cmed_dict)"
   ]
  },
  {
   "cell_type": "code",
   "execution_count": 30,
   "metadata": {},
   "outputs": [
    {
     "name": "stdout",
     "output_type": "stream",
     "text": [
      "EMG_LPF    56.5\n",
      "dtype: float64\n",
      "EMG_LPF    160.13\n",
      "dtype: float64\n"
     ]
    }
   ],
   "source": [
    "print(df_open_u2.loc[0:4799, ['EMG_LPF']].median())\n",
    "print(df_close_u2.loc[0:4799, ['EMG_LPF']].median())"
   ]
  },
  {
   "attachments": {},
   "cell_type": "markdown",
   "metadata": {},
   "source": [
    "Finding Mode"
   ]
  },
  {
   "cell_type": "code",
   "execution_count": 31,
   "metadata": {},
   "outputs": [
    {
     "name": "stdout",
     "output_type": "stream",
     "text": [
      "{'open_u2_mode': ',0    34.41', 'open_u3_mode': ',0    36.53', 'open_u4_mode': ',0    35.03', 'open_u5_mode': ',0    34.39', 'open_u6_mode': ',0    40.19', 'open_u7_mode': ',0    96.74,1   149.97,2   174.82', 'open_u8_mode': ',0    41.93', 'open_u9_mode': ',0    40.21,1    40.75', 'open_u10_mode': ',0    40.67', 'open_u11_mode': ',0    39.99', 'open_u12_mode': ',0    39.78,1    40.03,2    40.04', 'open_u13_mode': ',0    39.87', 'open_u14_mode': ',0    39.94', 'open_u15_mode': ',0    40.06', 'open_u16_mode': ',0    40.01', 'open_u17_mode': ',0    41.51', 'open_u18_mode': ',0    41.08', 'open_u19_mode': ',0    40.65', 'open_u20_mode': ',0    40.52', 'open_u21_mode': ',0    40.27', 'open_u22_mode': ',0    40.63', 'open_u23_mode': ',0    61.95,1    73.53', 'open_u24_mode': ',0    70.49', 'open_u25_mode': ',0   113.77,1   147.85,2   226.54,3   264.99', 'open_u26_mode': ',0    53.53', 'open_u27_mode': ',0    65.56,1    71.42,2    73.60,3    88.49,4    89.20,5   118.56', 'open_u28_mode': ',0    68.62,1    79.88,2    91.16,3    97.43,4   110.96', 'open_u29_mode': ',0    50.95', 'open_u30_mode': ',0    69.28', 'open_u31_mode': ',0    59.12,1    62.46,2    64.55,3    70.92,4    73.03,5    74.23,6    78.94', 'open_u32_mode': ',0    55.22,1    63.21,2    67.34,3    67.44,4    70.89,5    74.13,6    76.45,7    78.61', 'open_u33_mode': ',0    68.50,1    72.12,2    72.93,3    74.24,4    74.74,5    77.58,6    77.89', 'open_u34_mode': ',0    59.01', 'open_u35_mode': ',0    58.49,1    60.40', 'open_u36_mode': ',0    56.87,1    58.56,2    60.40', 'open_u37_mode': ',0    48.81,1    52.60,2    55.22', 'open_u38_mode': ',0    47.58,1    50.61,2    51.35', 'open_u39_mode': ',0    56.97,1    66.36'}\n",
      "{'close_u2_mode': ',0   145.78,1   158.89', 'close_u3_mode': ',0    36.38,1    36.61,2    38.53,3    40.73,4    40.83,5    41.39,6   152.56,7   178.90,8   183.52', 'close_u4_mode': ',0    34.76', 'close_u5_mode': ',0    35.15', 'close_u6_mode': ',0   106.83,1   112.98,2   143.17,3   145.45,4   148.38,5   154.84', 'close_u7_mode': ',0   127.02,1   129.56', 'close_u8_mode': ',0   159.82', 'close_u9_mode': ',0    138.11,1    141.37,2    143.64,3    145.52,4    151.46,5    157.33,6    221.42,7    249.67,8    287.52,9    294.33,10   295.48,11   304.62,12   311.15,13   316.88,14   324.62,15   328.48,16   405.49', 'close_u10_mode': ',0   119.22,1   123.55,2   124.30,3   131.69,4   153.53,5   158.86', 'close_u11_mode': ',0   137.52,1   160.14', 'close_u12_mode': ',0    41.87', 'close_u13_mode': ',0   114.52', 'close_u14_mode': ',0    172.22,1    189.12,2    198.57,3    246.22,4    257.83,5    298.02,6    342.90,7    395.49,8    425.86,9    434.90,10   443.62,11   453.50,12   463.02', 'close_u15_mode': ',0   150.32', 'close_u16_mode': ',0   149.57,1   200.39,2   261.06,3   269.87,4   276.61', 'close_u17_mode': ',0   155.53,1   161.19,2   174.84,3   175.12', 'close_u18_mode': ',0    84.35,1    92.77,2   100.16,3   100.37,4   140.48', 'close_u19_mode': ',0   194.52,1   258.87', 'close_u20_mode': ',0    76.58', 'close_u21_mode': ',0    69.15,1    74.17', 'close_u22_mode': ',0    92.93', 'close_u23_mode': ',0     88.07,1     90.77,2     91.31,3     91.49,4     91.54,5     91.57,6     92.08,7     92.13,8     92.68,9     94.57,10    97.06,11   105.75', 'close_u24_mode': ',0    68.98,1    70.52,2    72.44,3    74.15,4    75.16', 'close_u25_mode': ',0     71.09,1     72.06,2     75.12,3     75.91,4     78.29,5     82.07,6     82.86,7     85.55,8     88.23,9     92.24,10    93.67', 'close_u26_mode': ',0    71.64,1    77.55,2    77.57,3    88.94', 'close_u27_mode': ',0    97.72', 'close_u28_mode': ',0    85.75,1    86.82,2    88.47,3    91.67', 'close_u29_mode': ',0    83.17', 'close_u30_mode': ',0    91.01', 'close_u31_mode': ',0    93.79', 'close_u32_mode': ',0    67.47,1    67.79,2    74.66,3    79.24,4    81.32,5    81.86,6    89.42', 'close_u33_mode': ',0    86.33', 'close_u34_mode': ',0    71.49,1    73.57,2    74.55', 'close_u35_mode': ',0    78.53,1    81.05', 'close_u36_mode': ',0     70.98,1     72.50,2     74.21,3     74.58,4     75.00,5     75.81,6     76.00,7     76.46,8     84.47,9     84.70,10    87.65,11    88.98,12    93.31', 'close_u37_mode': ',0    76.84', 'close_u38_mode': ',0    81.27,1    84.36', 'close_u39_mode': ',0    66.26'}\n"
     ]
    }
   ],
   "source": [
    "with open('open_mode.csv', 'w') as f:\n",
    "       omode_dict={}\n",
    "       for i in range(2,40):\n",
    "              omodek = str(\"open_u\"+str(i)+\"_mode\")\n",
    "              omode_dict[omodek]= str(eval(str(\"df_open_u\"+str(i))).loc[0:4799,['EMG_LPF']].mode()).replace(\"EMG_LPF\", \"\").replace('\\n',',').strip()\n",
    "              f.write(omodek+\"  ,  \"+ omode_dict[omodek]+\"\\n\\n\")\n",
    "print(omode_dict)\n",
    "\n",
    "with open('close_mode.csv', 'w') as f:\n",
    "       cmode_dict={}\n",
    "       for i in range(2,40):\n",
    "              cmodek = str(\"close_u\"+str(i)+\"_mode\") #close mean key\n",
    "              cmode_dict[cmodek]= str(eval(str(\"df_close_u\"+str(i))).loc[0:4799,['EMG_LPF']].mode()).replace(\"EMG_LPF\", \"\").replace('\\n',',').strip()\n",
    "              f.write(cmodek+\"  ,  \"+ cmode_dict[cmodek]+\"\\n\\n\")\n",
    "print(cmode_dict)"
   ]
  },
  {
   "attachments": {},
   "cell_type": "markdown",
   "metadata": {},
   "source": [
    "Finding SD"
   ]
  },
  {
   "cell_type": "code",
   "execution_count": 32,
   "metadata": {},
   "outputs": [
    {
     "name": "stdout",
     "output_type": "stream",
     "text": [
      "{'open_u2_sd': '29.076034', 'open_u3_sd': '34.635668', 'open_u4_sd': '17.663239', 'open_u5_sd': '0.385812', 'open_u6_sd': '53.919488', 'open_u7_sd': '49.779222', 'open_u8_sd': '15.794128', 'open_u9_sd': '30.72805', 'open_u10_sd': '1.986745', 'open_u11_sd': '0.376668', 'open_u12_sd': '0.553372', 'open_u13_sd': '0.431623', 'open_u14_sd': '0.391257', 'open_u15_sd': '0.345031', 'open_u16_sd': '0.367578', 'open_u17_sd': '1.953979', 'open_u18_sd': '12.150835', 'open_u19_sd': '1.472695', 'open_u20_sd': '1.008269', 'open_u21_sd': '1.273226', 'open_u22_sd': '6.089197', 'open_u23_sd': '17.227924', 'open_u24_sd': '22.789658', 'open_u25_sd': '55.792441', 'open_u26_sd': '18.120881', 'open_u27_sd': '20.003711', 'open_u28_sd': '22.259567', 'open_u29_sd': '10.874507', 'open_u30_sd': '14.346954', 'open_u31_sd': '10.387096', 'open_u32_sd': '17.068565', 'open_u33_sd': '16.250671', 'open_u34_sd': '8.585397', 'open_u35_sd': '6.542022', 'open_u36_sd': '6.591551', 'open_u37_sd': '5.072647', 'open_u38_sd': '5.048778', 'open_u39_sd': '19.137476'}\n",
      "{'close_u2_sd': '76.899899', 'close_u3_sd': '72.043715', 'close_u4_sd': '92.015772', 'close_u5_sd': '98.799958', 'close_u6_sd': '55.387592', 'close_u7_sd': '75.065735', 'close_u8_sd': '46.777013', 'close_u9_sd': '109.769888', 'close_u10_sd': '47.699132', 'close_u11_sd': '57.953835', 'close_u12_sd': '83.548353', 'close_u13_sd': '44.246954', 'close_u14_sd': '98.368502', 'close_u15_sd': '75.933266', 'close_u16_sd': '60.615052', 'close_u17_sd': '39.834778', 'close_u18_sd': '48.655795', 'close_u19_sd': '65.193337', 'close_u20_sd': '19.358726', 'close_u21_sd': '15.751322', 'close_u22_sd': '25.922634', 'close_u23_sd': '30.966532', 'close_u24_sd': '43.314717', 'close_u25_sd': '39.605395', 'close_u26_sd': '19.68858', 'close_u27_sd': '29.211346', 'close_u28_sd': '23.226134', 'close_u29_sd': '38.208655', 'close_u30_sd': '30.631822', 'close_u31_sd': '30.989781', 'close_u32_sd': '47.479159', 'close_u33_sd': '33.123464', 'close_u34_sd': '26.845573', 'close_u35_sd': '29.27808', 'close_u36_sd': '38.146498', 'close_u37_sd': '34.691725', 'close_u38_sd': '35.215557', 'close_u39_sd': '31.978544'}\n"
     ]
    }
   ],
   "source": [
    "with open('open_sd.csv', 'w') as f:\n",
    "    osd_dict = {}\n",
    "    for i in range(2,40):\n",
    "        osdk = str(\"open_u\"+str(i)+\"_sd\")\n",
    "        osd_dict[osdk] = str(eval(str(\"df_open_u\"+str(i))).loc[0:4799,['EMG_LPF']].std()).replace(\"EMG_LPF\", '').replace('dtype: float64','').strip()\n",
    "        f.write(osdk+\"  ,  \"+ osd_dict[osdk]+\"\\n\")\n",
    "    print(osd_dict)\n",
    "\n",
    "with open('close_sd.csv', 'w') as f:\n",
    "    csd_dict = {}\n",
    "    for i in range(2,40):\n",
    "        csdk = str(\"close_u\"+str(i)+\"_sd\")\n",
    "        csd_dict[csdk] = str(eval(str(\"df_close_u\"+str(i))).loc[0:4799,['EMG_LPF']].std()).replace(\"EMG_LPF\", '').replace('dtype: float64','').strip()\n",
    "        f.write(csdk+\"  ,  \"+ csd_dict[csdk]+\"\\n\")\n",
    "print(csd_dict)"
   ]
  },
  {
   "cell_type": "code",
   "execution_count": 33,
   "metadata": {},
   "outputs": [
    {
     "data": {
      "text/plain": [
       "EMG_LPF    75.065735\n",
       "dtype: float64"
      ]
     },
     "execution_count": 33,
     "metadata": {},
     "output_type": "execute_result"
    }
   ],
   "source": [
    "df_close_u7.loc[0:4799, [\"EMG_LPF\"]].std()"
   ]
  },
  {
   "attachments": {},
   "cell_type": "markdown",
   "metadata": {},
   "source": [
    "Combining everything"
   ]
  },
  {
   "cell_type": "code",
   "execution_count": 34,
   "metadata": {},
   "outputs": [
    {
     "name": "stdout",
     "output_type": "stream",
     "text": [
      "      Mean Val  Med Val     SD Val  status\n",
      "0    63.078410   56.500  29.076034       0\n",
      "1    54.140827   37.140  34.635668       0\n",
      "2    46.915729   38.840  17.663239       0\n",
      "3    34.464135   34.430   0.385812       0\n",
      "4   129.373817  117.045  53.919488       0\n",
      "..         ...      ...        ...     ...\n",
      "33   95.926165   88.305  29.278080       1\n",
      "34   98.316390   86.410  38.146498       1\n",
      "35  109.268083  102.490  34.691725       1\n",
      "36   98.376363   85.905  35.215557       1\n",
      "37   95.003858   86.275  31.978544       1\n",
      "\n",
      "[76 rows x 4 columns]\n"
     ]
    }
   ],
   "source": [
    "read_om = pd.read_csv('open_mean.csv', names = ['OM User', 'OM Val'])\n",
    "read_cm = pd.read_csv('close_mean.csv', names= ['CM User', 'CM Val'])\n",
    "read_omed = pd.read_csv('open_median.csv', names= ['OMed User', 'OMed Val'])\n",
    "read_cmed = pd.read_csv('close_median.csv', names= ['CMed User', 'CMed Val'])\n",
    "read_csd = pd.read_csv('close_sd.csv', names= ['CSD User', 'CSD Val'])\n",
    "read_osd = pd.read_csv('open_sd.csv', names= ['OSD User', \"OSD Val\"])\n",
    "val1 = [1 for i in range(0,38)]\n",
    "val0 = [0 for i in range(0,38)]\n",
    "\n",
    "\n",
    "dataOpen = pd.DataFrame({'Mean Val':read_om['OM Val'], 'Med Val':read_omed['OMed Val'], 'SD Val':read_osd['OSD Val'], 'status': val0})\n",
    "dataClose = pd.DataFrame({'Mean Val':read_cm['CM Val'], 'Med Val':read_cmed['CMed Val'], 'SD Val':read_csd['CSD Val'],'status': val1})\n",
    "\n",
    "data = pd.concat([dataOpen,dataClose],axis=0)\n",
    "print(data)\n",
    "data.to_csv('data.csv', index=False)"
   ]
  },
  {
   "attachments": {},
   "cell_type": "markdown",
   "metadata": {},
   "source": [
    "AI TRAINING"
   ]
  },
  {
   "attachments": {},
   "cell_type": "markdown",
   "metadata": {},
   "source": [
    "RANDOM FOREST CLASSIFIER"
   ]
  },
  {
   "cell_type": "code",
   "execution_count": 35,
   "metadata": {},
   "outputs": [
    {
     "data": {
      "text/plain": [
       "Mean Val    0\n",
       "Med Val     0\n",
       "SD Val      0\n",
       "status      0\n",
       "dtype: int64"
      ]
     },
     "execution_count": 35,
     "metadata": {},
     "output_type": "execute_result"
    }
   ],
   "source": [
    "data.isnull().sum()"
   ]
  },
  {
   "cell_type": "code",
   "execution_count": 36,
   "metadata": {},
   "outputs": [
    {
     "name": "stdout",
     "output_type": "stream",
     "text": [
      "X: (76, 3)\n"
     ]
    }
   ],
   "source": [
    "y = data['status']\n",
    "\n",
    "X = data.drop(['status'],axis=1)\n",
    "print(f'X: {X.shape}')"
   ]
  },
  {
   "cell_type": "code",
   "execution_count": 37,
   "metadata": {},
   "outputs": [],
   "source": [
    "from sklearn.model_selection import train_test_split\n",
    "X_train, X_test, y_train, y_test = train_test_split(X, y, test_size =0.20, random_state =101)"
   ]
  },
  {
   "cell_type": "code",
   "execution_count": 38,
   "metadata": {},
   "outputs": [
    {
     "name": "stdout",
     "output_type": "stream",
     "text": [
      "X_test : (16, 3)\n",
      "X_train : (60, 3)\n",
      "y_test : (16,)\n",
      "y_train : (60,)\n"
     ]
    }
   ],
   "source": [
    "print(f'X_test : {X_test.shape}')\n",
    "print(f'X_train : {X_train.shape}')\n",
    "print(f'y_test : {y_test.shape}')\n",
    "print(f'y_train : {y_train.shape}')"
   ]
  },
  {
   "cell_type": "code",
   "execution_count": 39,
   "metadata": {},
   "outputs": [
    {
     "data": {
      "text/html": [
       "<style>#sk-container-id-2 {color: black;background-color: white;}#sk-container-id-2 pre{padding: 0;}#sk-container-id-2 div.sk-toggleable {background-color: white;}#sk-container-id-2 label.sk-toggleable__label {cursor: pointer;display: block;width: 100%;margin-bottom: 0;padding: 0.3em;box-sizing: border-box;text-align: center;}#sk-container-id-2 label.sk-toggleable__label-arrow:before {content: \"▸\";float: left;margin-right: 0.25em;color: #696969;}#sk-container-id-2 label.sk-toggleable__label-arrow:hover:before {color: black;}#sk-container-id-2 div.sk-estimator:hover label.sk-toggleable__label-arrow:before {color: black;}#sk-container-id-2 div.sk-toggleable__content {max-height: 0;max-width: 0;overflow: hidden;text-align: left;background-color: #f0f8ff;}#sk-container-id-2 div.sk-toggleable__content pre {margin: 0.2em;color: black;border-radius: 0.25em;background-color: #f0f8ff;}#sk-container-id-2 input.sk-toggleable__control:checked~div.sk-toggleable__content {max-height: 200px;max-width: 100%;overflow: auto;}#sk-container-id-2 input.sk-toggleable__control:checked~label.sk-toggleable__label-arrow:before {content: \"▾\";}#sk-container-id-2 div.sk-estimator input.sk-toggleable__control:checked~label.sk-toggleable__label {background-color: #d4ebff;}#sk-container-id-2 div.sk-label input.sk-toggleable__control:checked~label.sk-toggleable__label {background-color: #d4ebff;}#sk-container-id-2 input.sk-hidden--visually {border: 0;clip: rect(1px 1px 1px 1px);clip: rect(1px, 1px, 1px, 1px);height: 1px;margin: -1px;overflow: hidden;padding: 0;position: absolute;width: 1px;}#sk-container-id-2 div.sk-estimator {font-family: monospace;background-color: #f0f8ff;border: 1px dotted black;border-radius: 0.25em;box-sizing: border-box;margin-bottom: 0.5em;}#sk-container-id-2 div.sk-estimator:hover {background-color: #d4ebff;}#sk-container-id-2 div.sk-parallel-item::after {content: \"\";width: 100%;border-bottom: 1px solid gray;flex-grow: 1;}#sk-container-id-2 div.sk-label:hover label.sk-toggleable__label {background-color: #d4ebff;}#sk-container-id-2 div.sk-serial::before {content: \"\";position: absolute;border-left: 1px solid gray;box-sizing: border-box;top: 0;bottom: 0;left: 50%;z-index: 0;}#sk-container-id-2 div.sk-serial {display: flex;flex-direction: column;align-items: center;background-color: white;padding-right: 0.2em;padding-left: 0.2em;position: relative;}#sk-container-id-2 div.sk-item {position: relative;z-index: 1;}#sk-container-id-2 div.sk-parallel {display: flex;align-items: stretch;justify-content: center;background-color: white;position: relative;}#sk-container-id-2 div.sk-item::before, #sk-container-id-2 div.sk-parallel-item::before {content: \"\";position: absolute;border-left: 1px solid gray;box-sizing: border-box;top: 0;bottom: 0;left: 50%;z-index: -1;}#sk-container-id-2 div.sk-parallel-item {display: flex;flex-direction: column;z-index: 1;position: relative;background-color: white;}#sk-container-id-2 div.sk-parallel-item:first-child::after {align-self: flex-end;width: 50%;}#sk-container-id-2 div.sk-parallel-item:last-child::after {align-self: flex-start;width: 50%;}#sk-container-id-2 div.sk-parallel-item:only-child::after {width: 0;}#sk-container-id-2 div.sk-dashed-wrapped {border: 1px dashed gray;margin: 0 0.4em 0.5em 0.4em;box-sizing: border-box;padding-bottom: 0.4em;background-color: white;}#sk-container-id-2 div.sk-label label {font-family: monospace;font-weight: bold;display: inline-block;line-height: 1.2em;}#sk-container-id-2 div.sk-label-container {text-align: center;}#sk-container-id-2 div.sk-container {/* jupyter's `normalize.less` sets `[hidden] { display: none; }` but bootstrap.min.css set `[hidden] { display: none !important; }` so we also need the `!important` here to be able to override the default hidden behavior on the sphinx rendered scikit-learn.org. See: https://github.com/scikit-learn/scikit-learn/issues/21755 */display: inline-block !important;position: relative;}#sk-container-id-2 div.sk-text-repr-fallback {display: none;}</style><div id=\"sk-container-id-2\" class=\"sk-top-container\"><div class=\"sk-text-repr-fallback\"><pre>RandomForestClassifier(random_state=101)</pre><b>In a Jupyter environment, please rerun this cell to show the HTML representation or trust the notebook. <br />On GitHub, the HTML representation is unable to render, please try loading this page with nbviewer.org.</b></div><div class=\"sk-container\" hidden><div class=\"sk-item\"><div class=\"sk-estimator sk-toggleable\"><input class=\"sk-toggleable__control sk-hidden--visually\" id=\"sk-estimator-id-2\" type=\"checkbox\" checked><label for=\"sk-estimator-id-2\" class=\"sk-toggleable__label sk-toggleable__label-arrow\">RandomForestClassifier</label><div class=\"sk-toggleable__content\"><pre>RandomForestClassifier(random_state=101)</pre></div></div></div></div></div>"
      ],
      "text/plain": [
       "RandomForestClassifier(random_state=101)"
      ]
     },
     "execution_count": 39,
     "metadata": {},
     "output_type": "execute_result"
    }
   ],
   "source": [
    "rf_Model = RandomForestClassifier(random_state=101)\n",
    "rf_Model.fit(X_train, y_train)"
   ]
  },
  {
   "cell_type": "code",
   "execution_count": 40,
   "metadata": {},
   "outputs": [
    {
     "name": "stdout",
     "output_type": "stream",
     "text": [
      "Train Accuracy : 1.000000\n",
      "Test Accuracy : 0.812500\n"
     ]
    }
   ],
   "source": [
    "print(f'Train Accuracy : {rf_Model.score(X_train, y_train):3f}')\n",
    "print(f'Test Accuracy : {rf_Model.score(X_test, y_test):3f}')"
   ]
  },
  {
   "cell_type": "code",
   "execution_count": 41,
   "metadata": {},
   "outputs": [
    {
     "name": "stdout",
     "output_type": "stream",
     "text": [
      "    Mean Val  Med Val     SD Val\n",
      "2  46.915729    38.84  17.663239\n",
      "Prediction is 0 and lable is 2    0\n",
      "Name: status, dtype: int64\n"
     ]
    }
   ],
   "source": [
    "rand = np.random.randint(0,16)\n",
    "X_inp = X_test[rand:(rand+1)]\n",
    "print(X_inp)\n",
    "pred = rf_Model.predict(X_inp)[0]\n",
    "label = y_test[rand:(rand+1)]\n",
    "print(f'Prediction is {pred} and lable is {label}')\n"
   ]
  },
  {
   "cell_type": "code",
   "execution_count": 42,
   "metadata": {},
   "outputs": [
    {
     "name": "stdout",
     "output_type": "stream",
     "text": [
      "[0 0 0 0 0 1 1 0 1 0 1 1 1 1 1 0]\n"
     ]
    }
   ],
   "source": [
    "#Save Model\n",
    "import joblib\n",
    "filename = 'rfModel.joblib'\n",
    "res = joblib.dump(rf_Model,filename)\n",
    "\n",
    "save_Model = joblib.load(filename)\n",
    "print(save_Model.predict(X_test))"
   ]
  },
  {
   "attachments": {},
   "cell_type": "markdown",
   "metadata": {},
   "source": [
    "Random Forest with Tensor Flow"
   ]
  }
 ],
 "metadata": {
  "kernelspec": {
   "display_name": "Python 3",
   "language": "python",
   "name": "python3"
  },
  "language_info": {
   "codemirror_mode": {
    "name": "ipython",
    "version": 3
   },
   "file_extension": ".py",
   "mimetype": "text/x-python",
   "name": "python",
   "nbconvert_exporter": "python",
   "pygments_lexer": "ipython3",
   "version": "3.10.2"
  },
  "orig_nbformat": 4
 },
 "nbformat": 4,
 "nbformat_minor": 2
}
